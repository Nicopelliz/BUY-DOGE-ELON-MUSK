{
 "cells": [
  {
   "cell_type": "markdown",
   "id": "working-colors",
   "metadata": {},
   "source": [
    "Descrizione: lancia chrome alla pagina di profilo desiderato, accede a twitter, prende tutti i testi dei tweet e scrolla giù, e va avanti così fino alla fine, per concludere salva un csv con tutti i tweet in linea "
   ]
  },
  {
   "cell_type": "code",
   "execution_count": 1,
   "id": "european-stylus",
   "metadata": {},
   "outputs": [],
   "source": [
    "import csv\n",
    "from time import sleep\n",
    "from selenium import webdriver\n",
    "import pprint\n",
    "import pandas as pd\n",
    "from selenium.common import exceptions"
   ]
  },
  {
   "cell_type": "code",
   "execution_count": 69,
   "id": "bibliographic-bundle",
   "metadata": {},
   "outputs": [],
   "source": [
    "def main_only_selenium():\n",
    "    \"\"\"Run main program routine\"\"\"\n",
    "    \n",
    "    # startup the webdriver\n",
    "    # initiete constants\n",
    "    driver = webdriver.Chrome(executable_path=\"./chromedriver\")\n",
    "    records = pd.DataFrame()\n",
    "    #login_url = 'https://twitter.com/login'\n",
    "    url = 'https://twitter.com/elonmusk'\n",
    "    SCROLL_PAUSE_TIME = 7\n",
    "    last_height = driver.execute_script(\"return document.body.scrollHeight\")\n",
    "    \n",
    "    #print(last_height)\n",
    "    \n",
    "    user = 'your_username' \n",
    "    passw ='your_password'\n",
    "    \n",
    "    driver.get(url)\n",
    "    \n",
    "    sleep(2) \n",
    "    \n",
    "    driver.find_element_by_xpath('//*[@id=\"layers\"]/div/div[1]/div/div/div/div/div/div/div[1]/a/div/span/span').click()\n",
    "    \n",
    "    sleep(3)    \n",
    "    \n",
    "    driver.find_element_by_name('session[username_or_email]').send_keys(user)\n",
    "    driver.find_element_by_name('session[password]').send_keys(passw)\n",
    "    driver.find_element_by_xpath('//*[@id=\"react-root\"]/div/div/div[2]/main/div/div/div[2]/form/div/div[3]/div').click()\n",
    "    \n",
    "    sleep(5)    \n",
    "    \n",
    "    while True:\n",
    "    \n",
    "        results = driver.find_elements_by_xpath('//div[@data-testid=\"tweet\"]')\n",
    "\n",
    "        for card in results:\n",
    "\n",
    "            try:\n",
    "                _comment = card.find_element_by_xpath('.//div[2]/div[2]/div[1]').text\n",
    "            except exceptions.NoSuchElementException:\n",
    "                _comment = \"\"\n",
    "            try:\n",
    "                _responding = card.find_element_by_xpath('.//div[2]/div[2]/div[2]').text\n",
    "            except exceptions.NoSuchElementException:\n",
    "                _responding = \"\"\n",
    "                \n",
    "            tweet = _comment + _responding\n",
    "\n",
    "            records = records.append({'tweets':tweet}, ignore_index=True)\n",
    "        \n",
    "        \n",
    "        # Scroll down to bottom\n",
    "        #driver.execute_script(\"window.scrollTo(0, SCROLL_HEIGHT)\")\n",
    "        driver.execute_script(\"window.scrollTo(0, document.body.scrollHeight)\")\n",
    "        \n",
    "        \n",
    "        # Wait to load page\n",
    "        sleep(SCROLL_PAUSE_TIME)\n",
    "\n",
    "        # Calculate new scroll height and compare with last scroll height\n",
    "        new_height = driver.execute_script(\"return document.body.scrollHeight\")\n",
    "        print(new_height)\n",
    "        if new_height == last_height:\n",
    "            break\n",
    "        last_height = new_height\n",
    "\n",
    "        # save data to csv file\n",
    "        records.to_csv   ('elon_tweets.csv', index=False, mode='a', header=False)"
   ]
  },
  {
   "cell_type": "code",
   "execution_count": null,
   "id": "sustainable-deposit",
   "metadata": {},
   "outputs": [],
   "source": [
    "main_only_selenium()"
   ]
  },
  {
   "cell_type": "code",
   "execution_count": 3,
   "id": "confidential-raising",
   "metadata": {},
   "outputs": [],
   "source": [
    "elon_tweets = pd.read_csv('tweets/elon_tweets.csv')"
   ]
  },
  {
   "cell_type": "code",
   "execution_count": 4,
   "id": "hispanic-thermal",
   "metadata": {},
   "outputs": [
    {
     "data": {
      "text/html": [
       "<div>\n",
       "<style scoped>\n",
       "    .dataframe tbody tr th:only-of-type {\n",
       "        vertical-align: middle;\n",
       "    }\n",
       "\n",
       "    .dataframe tbody tr th {\n",
       "        vertical-align: top;\n",
       "    }\n",
       "\n",
       "    .dataframe thead th {\n",
       "        text-align: right;\n",
       "    }\n",
       "</style>\n",
       "<table border=\"1\" class=\"dataframe\">\n",
       "  <thead>\n",
       "    <tr style=\"text-align: right;\">\n",
       "      <th></th>\n",
       "      <th>View from the droneship of Falcon 9’s landing</th>\n",
       "    </tr>\n",
       "  </thead>\n",
       "  <tbody>\n",
       "    <tr>\n",
       "      <th>count</th>\n",
       "      <td>13918</td>\n",
       "    </tr>\n",
       "    <tr>\n",
       "      <th>unique</th>\n",
       "      <td>593</td>\n",
       "    </tr>\n",
       "    <tr>\n",
       "      <th>top</th>\n",
       "      <td>Liftoff!</td>\n",
       "    </tr>\n",
       "    <tr>\n",
       "      <th>freq</th>\n",
       "      <td>135</td>\n",
       "    </tr>\n",
       "  </tbody>\n",
       "</table>\n",
       "</div>"
      ],
      "text/plain": [
       "       View from the droneship of Falcon 9’s landing\n",
       "count                                          13918\n",
       "unique                                           593\n",
       "top                                         Liftoff!\n",
       "freq                                             135"
      ]
     },
     "execution_count": 4,
     "metadata": {},
     "output_type": "execute_result"
    }
   ],
   "source": [
    "elon_tweets.describe()"
   ]
  },
  {
   "cell_type": "code",
   "execution_count": 73,
   "id": "residential-fifty",
   "metadata": {},
   "outputs": [
    {
     "data": {
      "text/html": [
       "<div>\n",
       "<style scoped>\n",
       "    .dataframe tbody tr th:only-of-type {\n",
       "        vertical-align: middle;\n",
       "    }\n",
       "\n",
       "    .dataframe tbody tr th {\n",
       "        vertical-align: top;\n",
       "    }\n",
       "\n",
       "    .dataframe thead th {\n",
       "        text-align: right;\n",
       "    }\n",
       "</style>\n",
       "<table border=\"1\" class=\"dataframe\">\n",
       "  <thead>\n",
       "    <tr style=\"text-align: right;\">\n",
       "      <th></th>\n",
       "      <th>View from the droneship of Falcon 9’s landing</th>\n",
       "    </tr>\n",
       "  </thead>\n",
       "  <tbody>\n",
       "    <tr>\n",
       "      <th>0</th>\n",
       "      <td>5000 kms with 27 Supercharger StationsTesla op...</td>\n",
       "    </tr>\n",
       "    <tr>\n",
       "      <th>1</th>\n",
       "      <td>Looking at holding Tesla AI Day in about a mon...</td>\n",
       "    </tr>\n",
       "    <tr>\n",
       "      <th>2</th>\n",
       "      <td>Falcon 9's first stage returns to Earth and la...</td>\n",
       "    </tr>\n",
       "    <tr>\n",
       "      <th>3</th>\n",
       "      <td>View from the droneship of Falcon 9’s landing</td>\n",
       "    </tr>\n",
       "    <tr>\n",
       "      <th>7</th>\n",
       "      <td>From the top of Starbase high bay</td>\n",
       "    </tr>\n",
       "    <tr>\n",
       "      <th>...</th>\n",
       "      <td>...</td>\n",
       "    </tr>\n",
       "    <tr>\n",
       "      <th>14803</th>\n",
       "      <td>Nine years laterSpaceX\\n@SpaceX\\n · Jul 15, 20...</td>\n",
       "    </tr>\n",
       "    <tr>\n",
       "      <th>14804</th>\n",
       "      <td>Live webcast of Crew Dragon’s test flight with...</td>\n",
       "    </tr>\n",
       "    <tr>\n",
       "      <th>14806</th>\n",
       "      <td>Dragon docks with \\n@Space_Station\\n in ~3 hou...</td>\n",
       "    </tr>\n",
       "    <tr>\n",
       "      <th>14807</th>\n",
       "      <td>Crew Dragon has separated from Falcon 9’s seco...</td>\n",
       "    </tr>\n",
       "    <tr>\n",
       "      <th>14808</th>\n",
       "      <td>Falcon 9 booster has landed on the Of Course I...</td>\n",
       "    </tr>\n",
       "  </tbody>\n",
       "</table>\n",
       "<p>594 rows × 1 columns</p>\n",
       "</div>"
      ],
      "text/plain": [
       "           View from the droneship of Falcon 9’s landing\n",
       "0      5000 kms with 27 Supercharger StationsTesla op...\n",
       "1      Looking at holding Tesla AI Day in about a mon...\n",
       "2      Falcon 9's first stage returns to Earth and la...\n",
       "3          View from the droneship of Falcon 9’s landing\n",
       "7                      From the top of Starbase high bay\n",
       "...                                                  ...\n",
       "14803  Nine years laterSpaceX\\n@SpaceX\\n · Jul 15, 20...\n",
       "14804  Live webcast of Crew Dragon’s test flight with...\n",
       "14806  Dragon docks with \\n@Space_Station\\n in ~3 hou...\n",
       "14807  Crew Dragon has separated from Falcon 9’s seco...\n",
       "14808  Falcon 9 booster has landed on the Of Course I...\n",
       "\n",
       "[594 rows x 1 columns]"
      ]
     },
     "execution_count": 73,
     "metadata": {},
     "output_type": "execute_result"
    }
   ],
   "source": [
    "elon_tweets.drop_duplicates()"
   ]
  },
  {
   "cell_type": "code",
   "execution_count": 5,
   "id": "wanted-compound",
   "metadata": {},
   "outputs": [],
   "source": [
    "doge_tweets = []\n",
    "j=0\n",
    "for i in range(0,594):\n",
    "    tweet = elon_tweets.iloc[i,0]\n",
    "    if 'doge' in str(tweet).lower():\n",
    "        doge_tweets.append(tweet)\n",
    "        j+=1"
   ]
  },
  {
   "cell_type": "code",
   "execution_count": 6,
   "id": "circular-motel",
   "metadata": {},
   "outputs": [],
   "source": [
    "elon_doge_tweets = pd.DataFrame(doge_tweets)"
   ]
  },
  {
   "cell_type": "code",
   "execution_count": 77,
   "id": "structured-breast",
   "metadata": {},
   "outputs": [],
   "source": [
    "elon_doge_tweets.to_csv('doge_tweets.csv')"
   ]
  }
 ],
 "metadata": {
  "kernelspec": {
   "display_name": "Python 3",
   "language": "python",
   "name": "python3"
  },
  "language_info": {
   "codemirror_mode": {
    "name": "ipython",
    "version": 3
   },
   "file_extension": ".py",
   "mimetype": "text/x-python",
   "name": "python",
   "nbconvert_exporter": "python",
   "pygments_lexer": "ipython3",
   "version": "3.7.9"
  }
 },
 "nbformat": 4,
 "nbformat_minor": 5
}
