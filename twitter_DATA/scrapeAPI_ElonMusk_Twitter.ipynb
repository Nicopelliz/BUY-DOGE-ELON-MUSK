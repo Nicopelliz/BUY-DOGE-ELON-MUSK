{
 "cells": [
  {
   "cell_type": "code",
   "execution_count": 6,
   "id": "fluid-award",
   "metadata": {},
   "outputs": [
    {
     "name": "stdout",
     "output_type": "stream",
     "text": [
      "TO: Teslarati TEXT: @Teslarati @ResidentSponge ??\n",
      "TO: JRossNicoll TEXT: @JRossNicoll This is an important improvement\n",
      "TO: None TEXT: RT @SpaceX: View from the droneship of Falcon 9’s landing https://t.co/vk9KP2vPhC\n",
      "TO: None TEXT: RT @teslacn: 5000 kms with 27 Supercharger Stations👉Tesla opens the longest Supercharger route from east to west in China⚡️#TheSilkRoute @T…\n",
      "TO: WholeMarsBlog TEXT: @WholeMarsBlog Very sorry to hear that. Condolences to JB and his family.\n",
      "TO: ashleevance TEXT: @ashleevance Tesla financing round closed at 6pm Dec 24th 2008 – last hour of last day possible or payroll would’ve… https://t.co/ezN7AIFdNu\n",
      "TO: None TEXT: Looking at holding Tesla AI Day in about a month or so. Will go over progress with Tesla AI software &amp; hardware, bo… https://t.co/TjCbSlDyJJ\n",
      "TO: elonmusk TEXT: @karpathy “physical-world” sigh\n",
      "TO: None TEXT: RT @SpaceX: Falcon 9's first stage returns to Earth and lands on the Just Read the Instructions droneship after launch of GPS III-5 https:/…\n",
      "TO: karpathy TEXT: @karpathy In general, anyone interested in working on physical-word AI problems, should consider joining Tesla. Fas… https://t.co/7cRdAFkOAG\n"
     ]
    }
   ],
   "source": [
    "import tweepy, sys, pprint, pprint, time\n",
    "from tweepy import api, Cursor\n",
    "from decouple import config\n",
    "import pandas as pd\n",
    "import pprint\n",
    "\n",
    "# autenticazione con eventuali manage dell'errore\n",
    "\n",
    "def twitter_auth():\n",
    "    try:\n",
    "        consumer_key=config('API_KEY')\n",
    "        consumer_secret=config('API_SECRET')\n",
    "        access_token=config('ACCESS_TOKEN')\n",
    "        access_secret=config('ACCESS_TOKEN_SECRET')\n",
    "    \n",
    "    except KeyError:\n",
    "        sys.stderr.write(\"TWITTER environment variable not set\")\n",
    "        sys.exit(1)\n",
    "    auth = tweepy.OAuthHandler(consumer_key, consumer_secret)\n",
    "    auth.set_access_token(access_token, access_secret)\n",
    "    return auth\n",
    "\n",
    "def get_twitter_client():\n",
    "    auth = twitter_auth()\n",
    "    client = tweepy.API(auth, wait_on_rate_limit=True)\n",
    "    return client\n",
    "\n",
    "if __name__ == '__main__':\n",
    "    tweet_list = []\n",
    "    client = get_twitter_client()\n",
    "    for status in tweepy.Cursor(client.user_timeline, id='elonmusk').items(10):\n",
    "        if status.user.id == 44196397:\n",
    "        \n",
    "            print('TO: ' + str(status.in_reply_to_screen_name),'TEXT: ' + str(status.text))\n",
    "    \n",
    "            \n",
    "\n",
    "\n",
    "    "
   ]
  },
  {
   "cell_type": "code",
   "execution_count": null,
   "id": "addressed-defense",
   "metadata": {},
   "outputs": [],
   "source": []
  }
 ],
 "metadata": {
  "kernelspec": {
   "display_name": "Python 3",
   "language": "python",
   "name": "python3"
  },
  "language_info": {
   "codemirror_mode": {
    "name": "ipython",
    "version": 3
   },
   "file_extension": ".py",
   "mimetype": "text/x-python",
   "name": "python",
   "nbconvert_exporter": "python",
   "pygments_lexer": "ipython3",
   "version": "3.7.9"
  }
 },
 "nbformat": 4,
 "nbformat_minor": 5
}
